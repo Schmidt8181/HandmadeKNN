{
 "cells": [
  {
   "cell_type": "markdown",
   "metadata": {},
   "source": [
    "# Hand made nearest neighbor algorithm"
   ]
  },
  {
   "cell_type": "code",
   "execution_count": 1,
   "metadata": {
    "collapsed": true
   },
   "outputs": [],
   "source": [
    "import numpy as np\n",
    "from scipy.stats import mode"
   ]
  },
  {
   "cell_type": "code",
   "execution_count": 3,
   "metadata": {
    "collapsed": true
   },
   "outputs": [],
   "source": [
    "\n",
    "\n",
    "class NearestNeighbors(object):\n",
    "\n",
    "    def __init__(self, X, y, k = 5, distance = \"euclidean\"):\n",
    "        self.X = X\n",
    "        self.y = y\n",
    "        self.k = k\n",
    "        self.distance = distance\n",
    "        \n",
    "    def distance(self, p1, p2):\n",
    "        p1 = (x1, y1)\n",
    "        p2 = (x2, y2)\n",
    "        dist = np.sqrt((x1 - x2)**2 + (y1 - y2)**2)\n",
    "        return dist\n",
    "       \n",
    "    def predict(new_point):\n",
    "        distances = []\n",
    "        for i in self.X:\n",
    "            dist = self.distance(i, new_point)\n",
    "            distances.append(dist)\n",
    "       # Sort the distances\n",
    "        idx = np.argsort(distances)[:self.k]\n",
    "        y_labels = self.y[idx]\n",
    "        return sc.stats.mode(y_labels) # Mode is from scipy.stats\n"
   ]
  },
  {
   "cell_type": "markdown",
   "metadata": {
    "collapsed": true
   },
   "source": [
    "# Drill\n",
    "\n",
    "## Let's say we work at a credit card company and we're trying to figure out if people are going to pay their bills on time. We have everyone's purchases, split into four main categories: groceries, dining out, utilities, and entertainment. What are some ways you might use KNN to create this model? What aspects of KNN would be useful? Write up your thoughts in submit a link below."
   ]
  },
  {
   "cell_type": "markdown",
   "metadata": {},
   "source": [
    "A few things right from the start. I am uncomfortable with the idea of classifying someone as 'likely to repay' or 'not likely to repay' based on what type of items that person is buying. Spending more on dining out instead of groceries suggests one does not wish to cook for themselves, not that they won't repay bills.  A better predictor of payment, or non-payment, would be the customers own payment history. That being said, a new customer does not have any payment history and therefor some other way of predicting is required.\n",
    "\n",
    "\n",
    "Using KNN, we can a look at Groceries vs Entertainment, DiningOut vs Utilities, and Entertainment vs Utilities. I specifically left out DiningOut vs Groceries, expecting those two variables to be inversely related to each other. I also did not want to have a tie. With these three scores, we can then classify if a new customer is likely to repay or not repay. "
   ]
  },
  {
   "cell_type": "code",
   "execution_count": null,
   "metadata": {
    "collapsed": true
   },
   "outputs": [],
   "source": []
  }
 ],
 "metadata": {
  "kernelspec": {
   "display_name": "Python 3",
   "language": "python",
   "name": "python3"
  },
  "language_info": {
   "codemirror_mode": {
    "name": "ipython",
    "version": 3
   },
   "file_extension": ".py",
   "mimetype": "text/x-python",
   "name": "python",
   "nbconvert_exporter": "python",
   "pygments_lexer": "ipython3",
   "version": "3.6.1"
  }
 },
 "nbformat": 4,
 "nbformat_minor": 2
}
