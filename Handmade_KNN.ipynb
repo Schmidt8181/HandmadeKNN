{
 "cells": [
  {
   "cell_type": "markdown",
   "metadata": {},
   "source": [
    "# Hand made nearest neighbor algorithm"
   ]
  },
  {
   "cell_type": "code",
   "execution_count": 1,
   "metadata": {
    "collapsed": true
   },
   "outputs": [],
   "source": [
    "import numpy as np\n",
    "from scipy.stats import mode"
   ]
  },
  {
   "cell_type": "code",
   "execution_count": 3,
   "metadata": {},
   "outputs": [],
   "source": [
    "\n",
    "\n",
    "class NearestNeighbors(object):\n",
    "\n",
    "    def __init__(self, X, y, k = 5, distance = \"euclidean\"):\n",
    "        self.X = X\n",
    "        self.y = y\n",
    "        self.k = k\n",
    "        self.distance = distance\n",
    "        \n",
    "    def distance(self, p1, p2):\n",
    "        p1 = (x1, y1)\n",
    "        p2 = (x2, y2)\n",
    "        dist = np.sqrt((x1 - x2)**2 + (y1 - y2)**2)\n",
    "        return dist\n",
    "       \n",
    "    def predict(new_point):\n",
    "        distances = []\n",
    "        for i in self.X:\n",
    "            dist = self.distance(i, new_point)\n",
    "            distances.append(dist)\n",
    "       # Sort the distances\n",
    "        idx = np.argsort(distances)[:self.k]\n",
    "        y_labels = self.y[idx]\n",
    "        return sc.stats.mode(y_labels) # Mode is from scipy.stats\n"
   ]
  },
  {
   "cell_type": "code",
   "execution_count": null,
   "metadata": {
    "collapsed": true
   },
   "outputs": [],
   "source": []
  }
 ],
 "metadata": {
  "kernelspec": {
   "display_name": "Python 3",
   "language": "python",
   "name": "python3"
  },
  "language_info": {
   "codemirror_mode": {
    "name": "ipython",
    "version": 3
   },
   "file_extension": ".py",
   "mimetype": "text/x-python",
   "name": "python",
   "nbconvert_exporter": "python",
   "pygments_lexer": "ipython3",
   "version": "3.6.1"
  }
 },
 "nbformat": 4,
 "nbformat_minor": 2
}
